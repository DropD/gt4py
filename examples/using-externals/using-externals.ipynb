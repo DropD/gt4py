{
 "cells": [
  {
   "cell_type": "markdown",
   "metadata": {},
   "source": [
    "# Injecting externals\n",
    "We will now `gtpyc` on a stencil which uses externals.\n",
    "Please keep in mind that in order for any changes to the externals we are injecting will require a kernel restart and rerunning of the entire notebook, because Python caches imported modules."
   ]
  },
  {
   "cell_type": "code",
   "execution_count": 1,
   "metadata": {},
   "outputs": [
    {
     "name": "stdout",
     "output_type": "stream",
     "text": [
      "reading input file stencil.gt.py\n",
      "input file loaded as module <module 'stencil' from '/Users/ricoh/Code/gt4py-tutorial/gtpyc-tutorial/examples/using-externals/stencil.gt.py'>\n",
      "Found 1 stencils: \"add_const\".\n",
      "Building stencil add_const\n",
      " -> /Users/ricoh/Code/gt4py-tutorial/gtpyc-tutorial/examples/using-externals/add_const.py\n"
     ]
    }
   ],
   "source": [
    "!gtpyc -b numpy stencil.gt.py --externals='{\"CONST_B\": 37.0}'\n",
    "#!gtpyc -b numpy stencil.gt.py --externals='{\"CONST_A\": -7.0, \"CONST_B\": 22.0}'"
   ]
  },
  {
   "cell_type": "markdown",
   "metadata": {},
   "source": [
    "## Injecting and overriding\n",
    "If you inspect the `stencil.gt.py` file you will notice that the stencil \"imports\" two external symbols, `CONST_A` and `CONST_B`.\n",
    "Since a value for `CONST_A` is already supplied in the gtscript file, we only need to supply the other one. However we can override the value for `CONST_A` as well.\n",
    "Try to swap the comments on the two lines above and restarting and rerunning this notebook."
   ]
  },
  {
   "cell_type": "code",
   "execution_count": 2,
   "metadata": {},
   "outputs": [],
   "source": [
    "import numpy\n",
    "import add_const\n",
    "comp = add_const.add_const()"
   ]
  },
  {
   "cell_type": "code",
   "execution_count": 3,
   "metadata": {},
   "outputs": [
    {
     "name": "stderr",
     "output_type": "stream",
     "text": [
      "/Users/ricoh/Code/gt4py/src/gt4py/stencil_object.py:198: RuntimeWarning: NumPy ndarray passed as field. This is discouraged and only works with constraints and only for certain backends.\n",
      "  RuntimeWarning,\n"
     ]
    },
    {
     "data": {
      "text/plain": [
       "array([[[42.]]])"
      ]
     },
     "execution_count": 3,
     "metadata": {},
     "output_type": "execute_result"
    }
   ],
   "source": [
    "data = numpy.empty(shape=(1, 1, 1))\n",
    "comp(data, origin=(0, 0, 0))\n",
    "data"
   ]
  },
  {
   "cell_type": "markdown",
   "metadata": {},
   "source": [
    "The result should be `42.` for the first given `gtpyc` command line and `15.` for the second one.\n",
    "\n",
    "## Cleanup"
   ]
  },
  {
   "cell_type": "code",
   "execution_count": 4,
   "metadata": {},
   "outputs": [],
   "source": [
    "rm add_const.py"
   ]
  },
  {
   "cell_type": "code",
   "execution_count": null,
   "metadata": {},
   "outputs": [],
   "source": []
  }
 ],
 "metadata": {
  "kernelspec": {
   "display_name": "Python 3",
   "language": "python",
   "name": "python3"
  },
  "language_info": {
   "codemirror_mode": {
    "name": "ipython",
    "version": 3
   },
   "file_extension": ".py",
   "mimetype": "text/x-python",
   "name": "python",
   "nbconvert_exporter": "python",
   "pygments_lexer": "ipython3",
   "version": "3.7.7"
  }
 },
 "nbformat": 4,
 "nbformat_minor": 4
}
