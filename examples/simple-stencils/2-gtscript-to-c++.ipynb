{
 "cells": [
  {
   "cell_type": "markdown",
   "metadata": {},
   "source": [
    "## 2. Generate C++ code\n",
    "\n",
    "Next we will generate C++ code, which naturally will be dependent on GridTools but not on `gt4py`"
   ]
  },
  {
   "cell_type": "code",
   "execution_count": 1,
   "metadata": {},
   "outputs": [
    {
     "name": "stdout",
     "output_type": "stream",
     "text": [
      "Usage: gtpyc [OPTIONS] INPUT_PATH\n",
      "\n",
      "  GT4Py (GridTools for Python) stencil compiler.\n",
      "\n",
      "  INPUT_PATH can be either a gtscript or python file or a python package.\n",
      "\n",
      "Options:\n",
      "  -b, --backend [debug|numpy|gtx86|gtmc|gtcuda]\n",
      "                                  Choose a backend\n",
      "  -o, --output-path DIRECTORY     output path for the compiled source.\n",
      "  --bindings BINDINGS             Generate source code for language bindings.\n",
      "                                  Which languages are available depends on the\n",
      "                                  backend.\n",
      "\n",
      "  -C, --compile-bindings          Compile bindings source code. Only has an\n",
      "                                  effect in combination wih --bindings.\n",
      "\n",
      "  -O, --option OTPION             Backend option (multiple allowed), format:\n",
      "                                  -O key=value\n",
      "\n",
      "  -E, --externals JSON            JSON string describing externals overrides\n",
      "                                  for all stencils.\n",
      "\n",
      "  -s, --silent                    suppress output.\n",
      "  --help                          Show this message and exit.\n"
     ]
    }
   ],
   "source": [
    "!gtpyc --help"
   ]
  },
  {
   "cell_type": "code",
   "execution_count": 5,
   "metadata": {},
   "outputs": [
    {
     "name": "stdout",
     "output_type": "stream",
     "text": [
      "reading input file stencils.gt.py\n",
      "input file loaded as module <module 'stencils' from '/Users/ricoh/Code/gt4py-tutorial/gtpyc tutorial/examples/simple-stencils/stencils.gt.py'>\n",
      "Found 2 stencils: \"axpy\", \"dot\".\n",
      "Building stencil axpy\n",
      " -> /Users/ricoh/Code/gt4py-tutorial/gtpyc tutorial/examples/simple-stencils/src_axpy/computation.hpp\n",
      " -> /Users/ricoh/Code/gt4py-tutorial/gtpyc tutorial/examples/simple-stencils/src_axpy/computation.cpp\n",
      "Building stencil dot\n",
      " -> /Users/ricoh/Code/gt4py-tutorial/gtpyc tutorial/examples/simple-stencils/src_dot/computation.hpp\n",
      " -> /Users/ricoh/Code/gt4py-tutorial/gtpyc tutorial/examples/simple-stencils/src_dot/computation.cpp\n"
     ]
    }
   ],
   "source": [
    "!gtpyc -b \"gtx86\" ./stencils.gt.py"
   ]
  },
  {
   "cell_type": "code",
   "execution_count": 3,
   "metadata": {},
   "outputs": [
    {
     "name": "stdout",
     "output_type": "stream",
     "text": [
      "1-gtscript-to-python.ipynb  _dot.cpython-37m-darwin.so\n",
      "2-gtscript-to-c++.ipynb     \u001b[34msrc_axpy\u001b[m\u001b[m\n",
      "3-c++-python-bindings.ipynb \u001b[34msrc_dot\u001b[m\u001b[m\n",
      "_axpy.cpython-37m-darwin.so stencils.gt.py\n"
     ]
    }
   ],
   "source": [
    "!ls"
   ]
  },
  {
   "cell_type": "markdown",
   "metadata": {},
   "source": [
    "### User excercises:\n",
    "* Write client C++ source code using the stencils\n",
    "* Integrate generating stencil source code, building and linking a stencils library and linking it to the client code into your favourite build system.\n",
    "* Do the analog for the \"gtcuda\" backend (requires a CUDA compatible GPU)."
   ]
  },
  {
   "cell_type": "markdown",
   "metadata": {},
   "source": [
    "### Cleanup\n",
    "Disable the following cell to keep generated files around."
   ]
  },
  {
   "cell_type": "code",
   "execution_count": 4,
   "metadata": {},
   "outputs": [],
   "source": [
    "import pathlib\n",
    "import shutil\n",
    "cwd = pathlib.Path('.')\n",
    "axpy_mod = cwd / 'axpy.py'\n",
    "dot_mod = cwd / 'dot.py'\n",
    "axpy_ext = cwd / '_axpy.so'\n",
    "dot_ext = cwd / '_dot.so'\n",
    "pycache = cwd / '__pycache__'\n",
    "axpy_src = cwd / 'src_axpy'\n",
    "dot_src = cwd / 'src_dot'\n",
    "files = [axpy_mod, dot_mod, axpy_ext, dot_ext]\n",
    "dirs = [pycache, axpy_src, dot_src]\n",
    "\n",
    "for file in files:\n",
    "    if file.exists():\n",
    "        file.unlink()\n",
    "for folder in dirs:   \n",
    "    if folder.exists():\n",
    "        shutil.rmtree(folder)"
   ]
  }
 ],
 "metadata": {
  "kernelspec": {
   "display_name": "Python 3",
   "language": "python",
   "name": "python3"
  },
  "language_info": {
   "codemirror_mode": {
    "name": "ipython",
    "version": 3
   },
   "file_extension": ".py",
   "mimetype": "text/x-python",
   "name": "python",
   "nbconvert_exporter": "python",
   "pygments_lexer": "ipython3",
   "version": "3.7.7"
  }
 },
 "nbformat": 4,
 "nbformat_minor": 4
}
