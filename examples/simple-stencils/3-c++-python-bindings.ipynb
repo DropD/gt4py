{
 "cells": [
  {
   "cell_type": "markdown",
   "metadata": {},
   "source": [
    "## 3. C++ Python extensions\n",
    "Using the GridTools backends we can also create language bindings that allow to call the C++ / CUDA implemented stencil from python.\n",
    "This is very similar to the default behaviour when creating and using a stencil directly in `gt4py` code.\n",
    "\n"
   ]
  },
  {
   "cell_type": "code",
   "execution_count": 1,
   "metadata": {},
   "outputs": [
    {
     "name": "stdout",
     "output_type": "stream",
     "text": [
      "Usage: gtpyc [OPTIONS] INPUT_PATH\n",
      "\n",
      "  GT4Py (GridTools for Python) stencil compiler.\n",
      "\n",
      "  INPUT_PATH can be either a gtscript or python file or a python package.\n",
      "\n",
      "Options:\n",
      "  -b, --backend [debug|numpy|gtx86|gtmc|gtcuda]\n",
      "                                  Choose a backend\n",
      "  -o, --output-path DIRECTORY     output path for the compiled source.\n",
      "  --bindings BINDINGS             Generate source code for language bindings.\n",
      "                                  Which languages are available depends on the\n",
      "                                  backend.\n",
      "\n",
      "  -C, --compile-bindings          Compile bindings source code. Only has an\n",
      "                                  effect in combination wih --bindings.\n",
      "\n",
      "  -O, --option OTPION             Backend option (multiple allowed), format:\n",
      "                                  -O key=value\n",
      "\n",
      "  -E, --externals JSON            JSON string describing externals overrides\n",
      "                                  for all stencils.\n",
      "\n",
      "  -s, --silent                    suppress output.\n",
      "  --help                          Show this message and exit.\n"
     ]
    }
   ],
   "source": [
    "!gtpyc --help"
   ]
  },
  {
   "cell_type": "code",
   "execution_count": 2,
   "metadata": {},
   "outputs": [
    {
     "name": "stdout",
     "output_type": "stream",
     "text": [
      "reading input file stencils.gt.py\n",
      "input file loaded as module <module 'stencils' from '/Users/ricoh/Code/gt4py-tutorial/gtpyc tutorial/examples/simple-stencils/stencils.gt.py'>\n",
      "Found 2 stencils: \"axpy\", \"dot\".\n",
      "Building stencil axpy\n",
      " -> /Users/ricoh/Code/gt4py-tutorial/gtpyc tutorial/examples/simple-stencils/src_axpy/computation.hpp\n",
      " -> /Users/ricoh/Code/gt4py-tutorial/gtpyc tutorial/examples/simple-stencils/src_axpy/computation.cpp\n",
      " -> /Users/ricoh/Code/gt4py-tutorial/gtpyc tutorial/examples/simple-stencils/src_axpy/bindings.cpp\n",
      "compiled python bindings to /Users/ricoh/Code/gt4py-tutorial/gtpyc tutorial/examples/simple-stencils/_axpy.cpython-37m-darwin.so\n",
      " -> /Users/ricoh/Code/gt4py-tutorial/gtpyc tutorial/examples/simple-stencils/axpy.py\n",
      "Building stencil dot\n",
      " -> /Users/ricoh/Code/gt4py-tutorial/gtpyc tutorial/examples/simple-stencils/src_dot/computation.hpp\n",
      " -> /Users/ricoh/Code/gt4py-tutorial/gtpyc tutorial/examples/simple-stencils/src_dot/computation.cpp\n",
      " -> /Users/ricoh/Code/gt4py-tutorial/gtpyc tutorial/examples/simple-stencils/src_dot/bindings.cpp\n",
      "compiled python bindings to /Users/ricoh/Code/gt4py-tutorial/gtpyc tutorial/examples/simple-stencils/_dot.cpython-37m-darwin.so\n",
      " -> /Users/ricoh/Code/gt4py-tutorial/gtpyc tutorial/examples/simple-stencils/dot.py\n"
     ]
    }
   ],
   "source": [
    "!gtpyc -b \"gtx86\" --bindings=python --compile-bindings ./stencils.gt.py"
   ]
  },
  {
   "cell_type": "code",
   "execution_count": 3,
   "metadata": {},
   "outputs": [
    {
     "name": "stdout",
     "output_type": "stream",
     "text": [
      "1-gtscript-to-python.ipynb  axpy.py\n",
      "2-gtscript-to-c++.ipynb     dot.py\n",
      "3-c++-python-bindings.ipynb \u001b[34msrc_axpy\u001b[m\u001b[m\n",
      "_axpy.so                    \u001b[34msrc_dot\u001b[m\u001b[m\n",
      "_dot.so                     stencils.gt.py\n"
     ]
    }
   ],
   "source": [
    "!ls"
   ]
  },
  {
   "cell_type": "code",
   "execution_count": 4,
   "metadata": {},
   "outputs": [],
   "source": [
    "import numpy\n",
    "from axpy import axpy as axpy_cls\n",
    "axpy_f = axpy_cls()"
   ]
  },
  {
   "cell_type": "code",
   "execution_count": 5,
   "metadata": {},
   "outputs": [],
   "source": [
    "x = numpy.array([[[1, 2], [1, 4]]], dtype=numpy.float64)\n",
    "y = numpy.array([[[2, 3], [4, 4]]], dtype=numpy.float64)"
   ]
  },
  {
   "cell_type": "markdown",
   "metadata": {},
   "source": [
    "As you will see, it is not yet possible to call stencils compiled with the `gt<x>` family of backends with numpy arrays."
   ]
  },
  {
   "cell_type": "code",
   "execution_count": 6,
   "metadata": {},
   "outputs": [
    {
     "name": "stdout",
     "output_type": "stream",
     "text": [
      "Calling with numpy array failed!\n"
     ]
    }
   ],
   "source": [
    "try:\n",
    "    axpy_f(x, y, origin=(0, 0, 0))\n",
    "except AttributeError:\n",
    "    print(\"Calling with numpy array failed!\")"
   ]
  },
  {
   "cell_type": "markdown",
   "metadata": {},
   "source": [
    "However, this is being worked on. In the meantime we can still call the stencil with storages we can import from `gt4py`."
   ]
  },
  {
   "cell_type": "code",
   "execution_count": 7,
   "metadata": {},
   "outputs": [
    {
     "data": {
      "text/plain": [
       "CPUStorage([[[3., 5.],\n",
       "             [5., 8.]]])"
      ]
     },
     "execution_count": 7,
     "metadata": {},
     "output_type": "execute_result"
    }
   ],
   "source": [
    "from gt4py import storage\n",
    "\n",
    "ORIG = (0, 0, 0)\n",
    "x = storage.from_array(x, backend=axpy_f.backend, default_origin=ORIG)\n",
    "y = storage.from_array(y, backend=axpy_f.backend, default_origin=ORIG)\n",
    "\n",
    "axpy_f(x, y)\n",
    "y"
   ]
  },
  {
   "cell_type": "markdown",
   "metadata": {},
   "source": [
    "### Cleanup\n",
    "Disable the following cell to keep generated files around. Run manually to recreate the initial state."
   ]
  },
  {
   "cell_type": "code",
   "execution_count": 8,
   "metadata": {
    "jupyter": {
     "source_hidden": true
    }
   },
   "outputs": [],
   "source": [
    "import pathlib\n",
    "import shutil\n",
    "cwd = pathlib.Path('.')\n",
    "axpy_mod = cwd / 'axpy.py'\n",
    "dot_mod = cwd / 'dot.py'\n",
    "axpy_ext = cwd / '_axpy.so'\n",
    "dot_ext = cwd / '_dot.so'\n",
    "pycache = cwd / '__pycache__'\n",
    "axpy_src = cwd / 'src_axpy'\n",
    "dot_src = cwd / 'src_dot'\n",
    "files = [axpy_mod, dot_mod, axpy_ext, dot_ext]\n",
    "dirs = [pycache, axpy_src, dot_src]\n",
    "\n",
    "for file in files:\n",
    "    if file.exists():\n",
    "        file.unlink()\n",
    "for folder in dirs:   \n",
    "    if folder.exists():\n",
    "        shutil.rmtree(folder)"
   ]
  },
  {
   "cell_type": "code",
   "execution_count": null,
   "metadata": {},
   "outputs": [],
   "source": []
  }
 ],
 "metadata": {
  "kernelspec": {
   "display_name": "Python 3",
   "language": "python",
   "name": "python3"
  },
  "language_info": {
   "codemirror_mode": {
    "name": "ipython",
    "version": 3
   },
   "file_extension": ".py",
   "mimetype": "text/x-python",
   "name": "python",
   "nbconvert_exporter": "python",
   "pygments_lexer": "ipython3",
   "version": "3.7.7"
  }
 },
 "nbformat": 4,
 "nbformat_minor": 4
}
