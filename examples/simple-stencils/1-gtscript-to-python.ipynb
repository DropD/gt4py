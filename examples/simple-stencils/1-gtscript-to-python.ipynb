{
 "cells": [
  {
   "cell_type": "markdown",
   "metadata": {},
   "source": [
    "# Simple usage example\n",
    "\n",
    "## 1. Python\n",
    "\n",
    "Compile two stencils and use them from python. The stencils are defined in the file `stencils.gt.py`\n",
    "\n",
    "The following prints the help page for the `gtpyc` gtscript compiler:"
   ]
  },
  {
   "cell_type": "code",
   "execution_count": 1,
   "metadata": {},
   "outputs": [
    {
     "name": "stdout",
     "output_type": "stream",
     "text": [
      "Usage: gtpyc [OPTIONS] INPUT_PATH\n",
      "\n",
      "  GT4Py (GridTools for Python) stencil compiler.\n",
      "\n",
      "  INPUT_PATH can be either a gtscript or python file or a python package.\n",
      "\n",
      "Options:\n",
      "  -b, --backend [debug|numpy|gtx86|gtmc|gtcuda]\n",
      "                                  Choose a backend\n",
      "  -o, --output-path DIRECTORY     output path for the compiled source.\n",
      "  --bindings BINDINGS             Generate source code for language bindings.\n",
      "                                  Which languages are available depends on the\n",
      "                                  backend.\n",
      "\n",
      "  -C, --compile-bindings          Compile bindings source code. Only has an\n",
      "                                  effect in combination wih --bindings.\n",
      "\n",
      "  -O, --option OTPION             Backend option (multiple allowed), format:\n",
      "                                  -O key=value\n",
      "\n",
      "  -E, --externals JSON            JSON string describing externals overrides\n",
      "                                  for all stencils.\n",
      "\n",
      "  -s, --silent                    suppress output.\n",
      "  --help                          Show this message and exit.\n"
     ]
    }
   ],
   "source": [
    "!gtpyc --help"
   ]
  },
  {
   "cell_type": "markdown",
   "metadata": {},
   "source": [
    "### Compile the stencils\n",
    "We use the backend \"numpy\" since currently only \"numpy\" and \"debug\" allow us to call the compiled stencils with numpy arrays."
   ]
  },
  {
   "cell_type": "code",
   "execution_count": 2,
   "metadata": {},
   "outputs": [
    {
     "name": "stdout",
     "output_type": "stream",
     "text": [
      "reading input file stencils.gt.py\n",
      "input file loaded as module <module 'stencils' from '/Users/ricoh/Code/gt4py-tutorial/gtpyc tutorial/examples/simple-stencils/stencils.gt.py'>\n",
      "Found 2 stencils: \"axpy\", \"dot\".\n",
      "Building stencil axpy\n",
      " -> /Users/ricoh/Code/gt4py-tutorial/gtpyc tutorial/examples/simple-stencils/axpy.py\n",
      "Building stencil dot\n",
      " -> /Users/ricoh/Code/gt4py-tutorial/gtpyc tutorial/examples/simple-stencils/dot.py\n"
     ]
    }
   ],
   "source": [
    "!gtpyc -b \"numpy\" ./stencils.gt.py"
   ]
  },
  {
   "cell_type": "markdown",
   "metadata": {},
   "source": [
    "Now we can confirm that the two stencil modules are in the current directory:"
   ]
  },
  {
   "cell_type": "code",
   "execution_count": 3,
   "metadata": {},
   "outputs": [
    {
     "name": "stdout",
     "output_type": "stream",
     "text": [
      "1-gtscript-to-python.ipynb  _dot.cpython-37m-darwin.so\n",
      "2-gtscript-to-c++.ipynb     axpy.py\n",
      "3-c++-python-bindings.ipynb dot.py\n",
      "_axpy.cpython-37m-darwin.so stencils.gt.py\n"
     ]
    }
   ],
   "source": [
    "!ls"
   ]
  },
  {
   "cell_type": "markdown",
   "metadata": {},
   "source": [
    "### Use the stencils in python"
   ]
  },
  {
   "cell_type": "code",
   "execution_count": 4,
   "metadata": {},
   "outputs": [],
   "source": [
    "import numpy"
   ]
  },
  {
   "cell_type": "markdown",
   "metadata": {},
   "source": [
    "The stencils get compiled to a callable StencilObject class, which we can import and instanciate."
   ]
  },
  {
   "cell_type": "code",
   "execution_count": 5,
   "metadata": {},
   "outputs": [],
   "source": [
    "from dot import dot as dot_cls\n",
    "from axpy import axpy as axpy_cls\n",
    "dot = dot_cls()\n",
    "axpy = axpy_cls()"
   ]
  },
  {
   "cell_type": "markdown",
   "metadata": {},
   "source": [
    "Now we can use the stencil object instances like any function. Note, that we have to pass it the `origin` keyword argument, because we are using `numpy.array` inputs.\n",
    "Using numpy arrays also leads to a warning being issued that this is not (yet) supported by all backends."
   ]
  },
  {
   "cell_type": "code",
   "execution_count": 6,
   "metadata": {},
   "outputs": [
    {
     "name": "stderr",
     "output_type": "stream",
     "text": [
      "/Users/ricoh/Code/gt4py/src/gt4py/stencil_object.py:198: RuntimeWarning: NumPy ndarray passed as field. This is discouraged and only works with constraints and only for certain backends.\n",
      "  RuntimeWarning,\n"
     ]
    }
   ],
   "source": [
    "x = numpy.array([[[1, 2], [1, 4]]], dtype=numpy.float64)\n",
    "y = numpy.array([[[2, 3], [4, 4]]], dtype=numpy.float64)\n",
    "res = numpy.empty(shape=(1, 2, 2), dtype=numpy.float64)\n",
    "\n",
    "dot(x, y, res, origin=(0, 0, 0))\n",
    "axpy(x, y, alpha=2., origin=(0, 0, 0))"
   ]
  },
  {
   "cell_type": "markdown",
   "metadata": {},
   "source": [
    "Let's confirm the results of the `dot` stencil, which parallelly multiplies vertical columns and then accumulates them in the last layer.\n",
    "```\n",
    "x[i, j, :] * y[i, j, :] -> dot[i, j, -1]\n",
    "```"
   ]
  },
  {
   "cell_type": "code",
   "execution_count": 7,
   "metadata": {},
   "outputs": [
    {
     "data": {
      "text/plain": [
       "array([[ 8., 20.]])"
      ]
     },
     "execution_count": 7,
     "metadata": {},
     "output_type": "execute_result"
    }
   ],
   "source": [
    "assert res[0, 0, -1] == numpy.dot([1., 2.], [2., 3.])\n",
    "assert res[0, 1, -1] == numpy.dot([1., 4.], [4., 4.])\n",
    "res[:, :, -1]"
   ]
  },
  {
   "cell_type": "markdown",
   "metadata": {},
   "source": [
    "Now we check the `axpy` results, which again treats the input array as a bunch of (vertical) vectors and operates on them in parallel.\n",
    "```\n",
    "x * alpha + y -> y\n",
    "```"
   ]
  },
  {
   "cell_type": "code",
   "execution_count": 8,
   "metadata": {},
   "outputs": [
    {
     "data": {
      "text/plain": [
       "array([[[ 4.,  7.],\n",
       "        [ 6., 12.]]])"
      ]
     },
     "execution_count": 8,
     "metadata": {},
     "output_type": "execute_result"
    }
   ],
   "source": [
    "assert numpy.all(y[0, 0, :] == numpy.array([1., 2.]) * 2. + numpy.array([2., 3.]))\n",
    "assert numpy.all(y[0, 1, :] == numpy.array([1., 4.]) * 2. + numpy.array([4., 4.]))\n",
    "y"
   ]
  },
  {
   "cell_type": "markdown",
   "metadata": {},
   "source": [
    "If you inspect the generated python modules you will notice that they in turn do import from `gt4py`. However since they can automatically be generated it is possible to formally keep the dependency outside versioned code, simply by providing a script / build system that regenerates the stencil modules on demand. This could even happen automatically on catching an ImportError."
   ]
  },
  {
   "cell_type": "markdown",
   "metadata": {},
   "source": [
    "### Bonus: use the same gtscript file directly from python\n",
    "This now requires explicitly importing from gt4py in order to allow importing gtscript files."
   ]
  },
  {
   "cell_type": "code",
   "execution_count": 9,
   "metadata": {},
   "outputs": [
    {
     "data": {
      "text/plain": [
       "<gt4py.gtsimport.GtsFinder at 0x11fc2e150>"
      ]
     },
     "execution_count": 9,
     "metadata": {},
     "output_type": "execute_result"
    }
   ],
   "source": [
    "from gt4py import gtsimport\n",
    "gtsimport.install(search_path=[\".\"])"
   ]
  },
  {
   "cell_type": "code",
   "execution_count": 10,
   "metadata": {},
   "outputs": [],
   "source": [
    "from stencils import dot"
   ]
  },
  {
   "cell_type": "code",
   "execution_count": 11,
   "metadata": {},
   "outputs": [
    {
     "data": {
      "text/plain": [
       "array([[[ 4., 18.],\n",
       "        [ 6., 54.]]])"
      ]
     },
     "execution_count": 11,
     "metadata": {},
     "output_type": "execute_result"
    }
   ],
   "source": [
    "dot(x, y, res, origin=(0, 0, 0))\n",
    "res"
   ]
  },
  {
   "cell_type": "markdown",
   "metadata": {},
   "source": [
    "### Cleanup\n",
    "Disable the following cell (or outcomment specific files) to keep generated files around."
   ]
  },
  {
   "cell_type": "code",
   "execution_count": 1,
   "metadata": {},
   "outputs": [],
   "source": [
    "import pathlib\n",
    "import shutil\n",
    "cwd = pathlib.Path('.')\n",
    "axpy_mod = cwd / 'axpy.py'\n",
    "dot_mod = cwd / 'dot.py'\n",
    "axpy_ext = cwd / '_axpy.so'\n",
    "dot_ext = cwd / '_dot.so'\n",
    "pycache = cwd / '__pycache__'\n",
    "axpy_src = cwd / 'src_axpy'\n",
    "dot_src = cwd / 'src_dot'\n",
    "files = [axpy_mod, dot_mod, axpy_ext, dot_ext]\n",
    "dirs = [pycache, axpy_src, dot_src]\n",
    "\n",
    "for file in files:\n",
    "    if file.exists():\n",
    "        file.unlink()\n",
    "for folder in dirs:   \n",
    "    if folder.exists():\n",
    "        shutil.rmtree(folder)"
   ]
  },
  {
   "cell_type": "code",
   "execution_count": null,
   "metadata": {},
   "outputs": [],
   "source": []
  }
 ],
 "metadata": {
  "kernelspec": {
   "display_name": "Python 3",
   "language": "python",
   "name": "python3"
  },
  "language_info": {
   "codemirror_mode": {
    "name": "ipython",
    "version": 3
   },
   "file_extension": ".py",
   "mimetype": "text/x-python",
   "name": "python",
   "nbconvert_exporter": "python",
   "pygments_lexer": "ipython3",
   "version": "3.7.7"
  }
 },
 "nbformat": 4,
 "nbformat_minor": 4
}
